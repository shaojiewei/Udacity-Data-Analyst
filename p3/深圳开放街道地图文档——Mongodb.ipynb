{
 "cells": [
  {
   "cell_type": "markdown",
   "metadata": {
    "collapsed": true,
    "deletable": true,
    "editable": true
   },
   "source": [
    "# 地图区域：深圳\n",
    "https://mapzen.com/data/metro-extracts/metro/shenzhen_china/"
   ]
  },
  {
   "cell_type": "markdown",
   "metadata": {
    "deletable": true,
    "editable": true
   },
   "source": [
    "## 1.遇到的问题  \n",
    "\n",
    "### *街道名简写\n",
    "### *邮编包含香港地区\n",
    "\n",
    "## 2.数据概述\n",
    "\n",
    "## 3.关于数据的其他想法\n"
   ]
  },
  {
   "cell_type": "markdown",
   "metadata": {
    "deletable": true,
    "editable": true
   },
   "source": [
    "## 1.遇到的问题\n",
    "下载深圳地图后，发现数据集比较大，于是获取数据集的一个小样本来做分析。发现有2个问题  \n",
    "* 部分街道名简写（Gaoxin S.，延芳路 Yanfang Rd）\n",
    "* 邮编包含香港地区（DD91 3858,DD91 3688）\n",
    "\n",
    "### 部分街道名简写\n",
    "\n",
    "对所有缩写的街道名补充完整 如：延芳路 Yanfang Rd 替换成 延芳路 Yanfang Road, Gaoxin S. 替换成 Gaoxin Street\n",
    "\n",
    "#### 改进的益处： \n",
    "\n",
    "街道名补充完整后，方便导入数据库后的查询\n",
    "\n",
    "#### 预期的问题：  \n",
    "\n",
    "因为英文的多样性，很难穷举，只通过特定的几个简写，清洗时，可能会有遗漏的情况，清洗后的数据，可能依然存在简写的情况\n",
    "\n",
    "### 邮编包含香港地区\n",
    "\n",
    "对于邮编是香港地区的区域，全部清洗掉\n",
    "\n",
    "#### 改进的益处：\n",
    "\n",
    "过滤一部分有问题的数据 \n",
    "\n",
    "#### 预期的问题：\n",
    "\n",
    "只通过邮编进行过滤，但并非所有文档都有邮编信息，所以清洗的数据中，依然可能存在超出深圳市范围的数据\n",
    "\n"
   ]
  },
  {
   "cell_type": "markdown",
   "metadata": {
    "deletable": true,
    "editable": true
   },
   "source": [
    "## 数据概览\n",
    "\n",
    "### 文件大小\n",
    "shenzhen_china.osm ...... 135M  \n",
    "shenzhen_china.osm.json ....152M\n"
   ]
  },
  {
   "cell_type": "markdown",
   "metadata": {
    "deletable": true,
    "editable": true
   },
   "source": [
    "## 文档数量"
   ]
  },
  {
   "cell_type": "markdown",
   "metadata": {
    "deletable": true,
    "editable": true
   },
   "source": [
    "def print_doc_num(query):\n",
    "    print db.ShenZhenOpen.find(query).count()\n",
    "\n",
    "print_doc_num({})\n",
    "\n",
    "730333"
   ]
  },
  {
   "cell_type": "markdown",
   "metadata": {
    "deletable": true,
    "editable": true
   },
   "source": [
    "## node数量  \n"
   ]
  },
  {
   "cell_type": "markdown",
   "metadata": {
    "deletable": true,
    "editable": true
   },
   "source": [
    "def print_doc_num(query):\n",
    "    print db.ShenZhenOpen.find(query).count()\n",
    "\n",
    "print_doc_num({\"type\":\"node\"})\n",
    "\n",
    "658996"
   ]
  },
  {
   "cell_type": "markdown",
   "metadata": {
    "deletable": true,
    "editable": true
   },
   "source": [
    "## way数量"
   ]
  },
  {
   "cell_type": "markdown",
   "metadata": {
    "deletable": true,
    "editable": true
   },
   "source": [
    "def print_doc_num(query):\n",
    "    print db.ShenZhenOpen.find(query).count()\n",
    "\n",
    "print_doc_num({\"type\":\"way\"})\n",
    "\n",
    "71337"
   ]
  },
  {
   "cell_type": "markdown",
   "metadata": {
    "deletable": true,
    "editable": true
   },
   "source": [
    "## 用户数量"
   ]
  },
  {
   "cell_type": "markdown",
   "metadata": {
    "deletable": true,
    "editable": true
   },
   "source": [
    "result= db.ShenZhenOpen.distinct(\"created.user\")\n",
    "print len(result)\n",
    "\n",
    "798"
   ]
  },
  {
   "cell_type": "markdown",
   "metadata": {
    "deletable": true,
    "editable": true
   },
   "source": [
    "## 贡献最多的用户"
   ]
  },
  {
   "cell_type": "markdown",
   "metadata": {
    "deletable": true,
    "editable": true
   },
   "source": [
    "import pprint\n",
    "\n",
    "def print_doc_aggregate(query):\n",
    "    result=db.ShenZhenOpen.aggregate(query)\n",
    "    pprint.pprint(list(result))\n",
    "\n",
    "\n",
    "print_doc_aggregate([\n",
    "        {\"$group\":{\"_id\":\"$created.user\",\"count\":{\"$sum\":1}}},\n",
    "        {\"$sort\":{\"count\":-1}},\n",
    "        {\"$limit\":1}\n",
    "])\n",
    "\n",
    "\n",
    "[{u'_id': u'MarsmanRom', u'count': 177024}]"
   ]
  },
  {
   "cell_type": "markdown",
   "metadata": {
    "deletable": true,
    "editable": true
   },
   "source": [
    "## 只贡献过一次的用户"
   ]
  },
  {
   "cell_type": "markdown",
   "metadata": {
    "deletable": true,
    "editable": true
   },
   "source": [
    "def print_doc_aggregate(query):\n",
    "    result=db.ShenZhenOpen.aggregate(query)\n",
    "    pprint.pprint(list(result))\n",
    "\n",
    "\n",
    "print_doc_aggregate([\n",
    "        {\"$group\":{\"_id\":\"$created.user\",\"count\":{\"$sum\":1}}},\n",
    "        {\"$match\":{\"count\":1}},\n",
    "        {\"$group\":{\"_id\":\"$count\",\"num_users\":{\"$sum\":1}}}\n",
    "])\n",
    "\n",
    "[{u'_id': 1, u'num_users': 175}]"
   ]
  },
  {
   "cell_type": "markdown",
   "metadata": {
    "deletable": true,
    "editable": true
   },
   "source": [
    "## 额外的想法"
   ]
  },
  {
   "cell_type": "markdown",
   "metadata": {
    "deletable": true,
    "editable": true
   },
   "source": [
    "用户的贡献出现非常严重的偏斜，少量用户贡献了大多数的地图信息。这可能自动贡献与人工贡献的区别，以下是一些统计信息：  \n",
    "\n",
    "*贡献最多的用户（MarsmanRom），占全部贡献的24.24%  \n",
    "*贡献最多的前10个用户（占全部用户数的1.25%），占全部贡献的61.11%  \n",
    "*贡献最多的前100个用户（占全部用户数的12.53%），占全部贡献的95.51%\n",
    "*贡献最少的590个用户（占全部用户数的73.93%），占全部贡献的1%  \n",
    "\n",
    "贡献度高的用户，提供的数据一致性与可靠性应该会更好些，贡献度少的用户，可能不熟悉开放地图的用法，或不能花时间在上面，提供的数据一致性与可靠性会差些，可以考虑删除这一部分数据，以提高数据一致性与可靠性\n",
    "### 改进的益处\n",
    "删除贡献低的用户提供的数据，可以提高数据的一致性与可靠性  \n",
    "### 预期的问题\n",
    "会失去一些有用的信息，数据集变小，不过总的来说，这部分数据所占比例非常小，删除后对总体影响不大"
   ]
  },
  {
   "cell_type": "markdown",
   "metadata": {
    "collapsed": true,
    "deletable": true,
    "editable": true
   },
   "source": [
    "## 用Mongodb 进行额外探索\n",
    "\n",
    "#### 出现次数最多的10个便利设施\n"
   ]
  },
  {
   "cell_type": "markdown",
   "metadata": {},
   "source": [
    "def print_doc_aggregate(query):\n",
    "    result=db.ShenZhenOpen.aggregate(query)\n",
    "    pprint.pprint(list(result))\n",
    "\n",
    "\n",
    "print_doc_aggregate([\n",
    "        {'$match':{'amenity':{'$exists':1}}},\n",
    "        {'$group':{'_id':'$amenity','count':{'$sum':1}}},\n",
    "        {'$sort':{'count':-1}},\n",
    "        {'$limit':10}\n",
    "])\n",
    "\n",
    "[{u'_id': u'parking', u'count': 543},\n",
    " {u'_id': u'toilets', u'count': 418},\n",
    " {u'_id': u'school', u'count': 339},\n",
    " {u'_id': u'restaurant', u'count': 237},\n",
    " {u'_id': u'shelter', u'count': 225},\n",
    " {u'_id': u'post_box', u'count': 166},\n",
    " {u'_id': u'place_of_worship', u'count': 140},\n",
    " {u'_id': u'bus_station', u'count': 123},\n",
    " {u'_id': u'bank', u'count': 122},\n",
    " {u'_id': u'fuel', u'count': 110}]\n"
   ]
  },
  {
   "cell_type": "markdown",
   "metadata": {},
   "source": [
    "### 出现次数最多的银行"
   ]
  },
  {
   "cell_type": "markdown",
   "metadata": {},
   "source": [
    "def print_doc_aggregate(query):\n",
    "    result=db.ShenZhenOpen.aggregate(query)\n",
    "    return list(result)\n",
    "\n",
    "y = print_doc_aggregate([\n",
    "        {'$match':{'amenity':{'$exists':1}}},\n",
    "        {'$match':{'amenity':'bank'}},\n",
    "        {'$match':{'name':{'$exists':1}}},\n",
    "        {'$group':{'_id':'$name','count':{'$sum':1}}},\n",
    "        {'$sort':{'count':-1}},\n",
    "        {'$limit':1}])\n",
    "\n",
    "for e in y:\n",
    "    for key, value in e.items():\n",
    "        if(isinstance(value,str)):\n",
    "            print key,value.decode(\"ascii\").encode(\"utf-8\")\n",
    "        else:\n",
    "            print key,value\n",
    "\n",
    "\n",
    "count 28\n",
    "_id 工商银行"
   ]
  },
  {
   "cell_type": "markdown",
   "metadata": {},
   "source": [
    "### 出现次数最多的餐厅"
   ]
  },
  {
   "cell_type": "markdown",
   "metadata": {},
   "source": [
    "def print_doc_aggregate(query):\n",
    "    result=db.ShenZhenOpen.aggregate(query)\n",
    "    return (list(result))\n",
    "\n",
    "\n",
    "y =print_doc_aggregate([\n",
    "        {'$match':{'amenity':{'$exists':1}}},\n",
    "        {'$match':{'amenity':'restaurant'}},\n",
    "        {'$match':{'name':{'$exists':1}}},\n",
    "        {'$group':{'_id':'$name','count':{'$sum':1}}},\n",
    "        {'$sort':{'count':-1}},\n",
    "        {'$limit':5}\n",
    "])\n",
    "\n",
    "\n",
    "for e in y:\n",
    "    for key, value in e.items():\n",
    "        if(isinstance(value,str)):\n",
    "            print key + \":\"+ value.decode(\"ascii\").encode(\"utf-8\")\n",
    "        else:\n",
    "            print key,value\n",
    "\n",
    "count 3\n",
    "_id Pizza Hut\n",
    "count 2\n",
    "_id 沙县小吃\n",
    "count 2\n",
    "_id 譚仔三哥\n",
    "count 1\n",
    "_id 实验餐厅\n",
    "count 1\n",
    "_id 荔山餐厅"
   ]
  },
  {
   "cell_type": "markdown",
   "metadata": {},
   "source": [
    "# 结论\n",
    "经过本次清洗，数据在一致性和完整性上有了一定的提升。虽然清洗过的数据中，依然可能存在数据一致性和完整性的问题，但是我相信这次数据清洗已经很好地达到了本次练习的目的。  \n",
    "本次清洗让我注意到，OpenStreetMap可以让所有人都参与编辑地图、提供数据，这种形式能够提升数据的准确性、增加多样性，但是也带来了数据一致性和完整性上的问题。因为数据的质量会影响分析的结果，所以在使用此类数据进行分析前，要进行必要的数据清洗"
   ]
  }
 ],
 "metadata": {
  "kernelspec": {
   "display_name": "Python 2",
   "language": "python",
   "name": "python2"
  },
  "language_info": {
   "codemirror_mode": {
    "name": "ipython",
    "version": 2
   },
   "file_extension": ".py",
   "mimetype": "text/x-python",
   "name": "python",
   "nbconvert_exporter": "python",
   "pygments_lexer": "ipython2",
   "version": "2.7.13"
  }
 },
 "nbformat": 4,
 "nbformat_minor": 2
}
